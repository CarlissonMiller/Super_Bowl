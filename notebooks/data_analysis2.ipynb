{
 "cells": [
  {
   "cell_type": "markdown",
   "id": "bf613384",
   "metadata": {},
   "source": [
    "# Resolução do Case: Parte 2\n",
    "\n",
    "Nesta segunda parte da resolução do case vamos focar na resolução do restante das perguntas."
   ]
  },
  {
   "cell_type": "markdown",
   "id": "6a7b6085",
   "metadata": {},
   "source": [
    "## Pacotes"
   ]
  },
  {
   "cell_type": "code",
   "execution_count": 15,
   "id": "732e6b92",
   "metadata": {},
   "outputs": [],
   "source": [
    "import numpy as np\n",
    "import pandas as pd\n",
    "import seaborn as sns\n",
    "import matplotlib.pyplot as plt"
   ]
  },
  {
   "cell_type": "markdown",
   "id": "e3767acc",
   "metadata": {},
   "source": [
    "## Carrega base\n",
    "\n",
    "* Vamos carregar as bases que serão utilizadas na análise"
   ]
  },
  {
   "cell_type": "code",
   "execution_count": 16,
   "id": "263b4101",
   "metadata": {},
   "outputs": [
    {
     "name": "stdout",
     "output_type": "stream",
     "text": [
      "(52, 18)\n"
     ]
    },
    {
     "data": {
      "text/html": [
       "<div>\n",
       "<style scoped>\n",
       "    .dataframe tbody tr th:only-of-type {\n",
       "        vertical-align: middle;\n",
       "    }\n",
       "\n",
       "    .dataframe tbody tr th {\n",
       "        vertical-align: top;\n",
       "    }\n",
       "\n",
       "    .dataframe thead th {\n",
       "        text-align: right;\n",
       "    }\n",
       "</style>\n",
       "<table border=\"1\" class=\"dataframe\">\n",
       "  <thead>\n",
       "    <tr style=\"text-align: right;\">\n",
       "      <th></th>\n",
       "      <th>data</th>\n",
       "      <th>edicao_super_bowl</th>\n",
       "      <th>estadio</th>\n",
       "      <th>cidade</th>\n",
       "      <th>estado</th>\n",
       "      <th>numero_torcedores</th>\n",
       "      <th>time_vencedor</th>\n",
       "      <th>pontos_vencedor</th>\n",
       "      <th>quarterback_vencedor_1</th>\n",
       "      <th>quarterback_vencedor_2</th>\n",
       "      <th>tecnico_vencedor</th>\n",
       "      <th>time_perdedor</th>\n",
       "      <th>pontos_perdedor</th>\n",
       "      <th>quarterback_perdedor_1</th>\n",
       "      <th>quarterback_perdedor_2</th>\n",
       "      <th>tecnico_perdedor</th>\n",
       "      <th>pontos_total</th>\n",
       "      <th>pontos_diferenca</th>\n",
       "    </tr>\n",
       "  </thead>\n",
       "  <tbody>\n",
       "    <tr>\n",
       "      <th>0</th>\n",
       "      <td>04/02/2018</td>\n",
       "      <td>52</td>\n",
       "      <td>U.S. Bank Stadium</td>\n",
       "      <td>Minneapolis</td>\n",
       "      <td>Minnesota</td>\n",
       "      <td>67612</td>\n",
       "      <td>Philadelphia Eagles</td>\n",
       "      <td>41</td>\n",
       "      <td>Nick Foles</td>\n",
       "      <td>NaN</td>\n",
       "      <td>Doug Pederson</td>\n",
       "      <td>New England Patriots</td>\n",
       "      <td>33</td>\n",
       "      <td>Tom Brady</td>\n",
       "      <td>NaN</td>\n",
       "      <td>Bill Belichick</td>\n",
       "      <td>74</td>\n",
       "      <td>8</td>\n",
       "    </tr>\n",
       "    <tr>\n",
       "      <th>1</th>\n",
       "      <td>05/02/2017</td>\n",
       "      <td>51</td>\n",
       "      <td>NRG Stadium</td>\n",
       "      <td>Houston</td>\n",
       "      <td>Texas</td>\n",
       "      <td>70807</td>\n",
       "      <td>New England Patriots</td>\n",
       "      <td>34</td>\n",
       "      <td>Tom Brady</td>\n",
       "      <td>NaN</td>\n",
       "      <td>Bill Belichick</td>\n",
       "      <td>Atlanta Falcons</td>\n",
       "      <td>28</td>\n",
       "      <td>Matt Ryan</td>\n",
       "      <td>NaN</td>\n",
       "      <td>Dan Quinn</td>\n",
       "      <td>62</td>\n",
       "      <td>6</td>\n",
       "    </tr>\n",
       "    <tr>\n",
       "      <th>2</th>\n",
       "      <td>07/02/2016</td>\n",
       "      <td>50</td>\n",
       "      <td>Levi's Stadium</td>\n",
       "      <td>Santa Clara</td>\n",
       "      <td>California</td>\n",
       "      <td>71088</td>\n",
       "      <td>Denver Broncos</td>\n",
       "      <td>24</td>\n",
       "      <td>Peyton Manning</td>\n",
       "      <td>NaN</td>\n",
       "      <td>Gary Kubiak</td>\n",
       "      <td>Carolina Panthers</td>\n",
       "      <td>10</td>\n",
       "      <td>Cam Newton</td>\n",
       "      <td>NaN</td>\n",
       "      <td>Ron Rivera</td>\n",
       "      <td>34</td>\n",
       "      <td>14</td>\n",
       "    </tr>\n",
       "    <tr>\n",
       "      <th>3</th>\n",
       "      <td>01/02/2015</td>\n",
       "      <td>49</td>\n",
       "      <td>University of Phoenix Stadium</td>\n",
       "      <td>Glendale</td>\n",
       "      <td>Arizona</td>\n",
       "      <td>70288</td>\n",
       "      <td>New England Patriots</td>\n",
       "      <td>28</td>\n",
       "      <td>Tom Brady</td>\n",
       "      <td>NaN</td>\n",
       "      <td>Bill Belichick</td>\n",
       "      <td>Seattle Seahawks</td>\n",
       "      <td>24</td>\n",
       "      <td>Russell Wilson</td>\n",
       "      <td>NaN</td>\n",
       "      <td>Pete Carroll</td>\n",
       "      <td>52</td>\n",
       "      <td>4</td>\n",
       "    </tr>\n",
       "    <tr>\n",
       "      <th>4</th>\n",
       "      <td>02/02/2014</td>\n",
       "      <td>48</td>\n",
       "      <td>MetLife Stadium</td>\n",
       "      <td>East Rutherford</td>\n",
       "      <td>New Jersey</td>\n",
       "      <td>82529</td>\n",
       "      <td>Seattle Seahawks</td>\n",
       "      <td>43</td>\n",
       "      <td>Russell Wilson</td>\n",
       "      <td>NaN</td>\n",
       "      <td>Pete Carroll</td>\n",
       "      <td>Denver Broncos</td>\n",
       "      <td>8</td>\n",
       "      <td>Peyton Manning</td>\n",
       "      <td>NaN</td>\n",
       "      <td>John Fox</td>\n",
       "      <td>51</td>\n",
       "      <td>35</td>\n",
       "    </tr>\n",
       "  </tbody>\n",
       "</table>\n",
       "</div>"
      ],
      "text/plain": [
       "         data  edicao_super_bowl                        estadio  \\\n",
       "0  04/02/2018                 52              U.S. Bank Stadium   \n",
       "1  05/02/2017                 51                    NRG Stadium   \n",
       "2  07/02/2016                 50                 Levi's Stadium   \n",
       "3  01/02/2015                 49  University of Phoenix Stadium   \n",
       "4  02/02/2014                 48                MetLife Stadium   \n",
       "\n",
       "            cidade      estado  numero_torcedores         time_vencedor  \\\n",
       "0      Minneapolis   Minnesota              67612   Philadelphia Eagles   \n",
       "1          Houston       Texas              70807  New England Patriots   \n",
       "2      Santa Clara  California              71088        Denver Broncos   \n",
       "3         Glendale     Arizona              70288  New England Patriots   \n",
       "4  East Rutherford  New Jersey              82529      Seattle Seahawks   \n",
       "\n",
       "   pontos_vencedor quarterback_vencedor_1 quarterback_vencedor_2  \\\n",
       "0               41             Nick Foles                    NaN   \n",
       "1               34              Tom Brady                    NaN   \n",
       "2               24         Peyton Manning                    NaN   \n",
       "3               28              Tom Brady                    NaN   \n",
       "4               43         Russell Wilson                    NaN   \n",
       "\n",
       "  tecnico_vencedor         time_perdedor  pontos_perdedor  \\\n",
       "0    Doug Pederson  New England Patriots               33   \n",
       "1   Bill Belichick       Atlanta Falcons               28   \n",
       "2      Gary Kubiak     Carolina Panthers               10   \n",
       "3   Bill Belichick      Seattle Seahawks               24   \n",
       "4     Pete Carroll        Denver Broncos                8   \n",
       "\n",
       "  quarterback_perdedor_1 quarterback_perdedor_2 tecnico_perdedor  \\\n",
       "0              Tom Brady                    NaN   Bill Belichick   \n",
       "1              Matt Ryan                    NaN        Dan Quinn   \n",
       "2             Cam Newton                    NaN       Ron Rivera   \n",
       "3         Russell Wilson                    NaN     Pete Carroll   \n",
       "4         Peyton Manning                    NaN         John Fox   \n",
       "\n",
       "   pontos_total  pontos_diferenca  \n",
       "0            74                 8  \n",
       "1            62                 6  \n",
       "2            34                14  \n",
       "3            52                 4  \n",
       "4            51                35  "
      ]
     },
     "execution_count": 16,
     "metadata": {},
     "output_type": "execute_result"
    }
   ],
   "source": [
    "df_super_bowls = pd.read_csv(\"../data/super_bowls.csv\", sep=\";\")\n",
    "print(df_super_bowls.shape)\n",
    "df_super_bowls.head()"
   ]
  },
  {
   "cell_type": "code",
   "execution_count": 17,
   "id": "0aab5f02",
   "metadata": {},
   "outputs": [
    {
     "data": {
      "text/plain": [
       "Index(['data', 'edicao_super_bowl', 'estadio', 'cidade', 'estado',\n",
       "       'numero_torcedores', 'time_vencedor', 'pontos_vencedor',\n",
       "       'quarterback_vencedor_1', 'quarterback_vencedor_2', 'tecnico_vencedor',\n",
       "       'time_perdedor', 'pontos_perdedor', 'quarterback_perdedor_1',\n",
       "       'quarterback_perdedor_2', 'tecnico_perdedor', 'pontos_total',\n",
       "       'pontos_diferenca'],\n",
       "      dtype='object')"
      ]
     },
     "execution_count": 17,
     "metadata": {},
     "output_type": "execute_result"
    }
   ],
   "source": [
    "df_super_bowls.columns"
   ]
  },
  {
   "cell_type": "code",
   "execution_count": 18,
   "id": "fb425b32",
   "metadata": {},
   "outputs": [
    {
     "name": "stdout",
     "output_type": "stream",
     "text": [
      "(53, 6)\n"
     ]
    },
    {
     "data": {
      "text/html": [
       "<div>\n",
       "<style scoped>\n",
       "    .dataframe tbody tr th:only-of-type {\n",
       "        vertical-align: middle;\n",
       "    }\n",
       "\n",
       "    .dataframe tbody tr th {\n",
       "        vertical-align: top;\n",
       "    }\n",
       "\n",
       "    .dataframe thead th {\n",
       "        text-align: right;\n",
       "    }\n",
       "</style>\n",
       "<table border=\"1\" class=\"dataframe\">\n",
       "  <thead>\n",
       "    <tr style=\"text-align: right;\">\n",
       "      <th></th>\n",
       "      <th>edicao_super_bowl</th>\n",
       "      <th>canal</th>\n",
       "      <th>media_us_telespectadores</th>\n",
       "      <th>total_us_telespectadores</th>\n",
       "      <th>nota_telespectadores</th>\n",
       "      <th>custos_anuncio</th>\n",
       "    </tr>\n",
       "  </thead>\n",
       "  <tbody>\n",
       "    <tr>\n",
       "      <th>0</th>\n",
       "      <td>52</td>\n",
       "      <td>NBC</td>\n",
       "      <td>103,390,000.00</td>\n",
       "      <td>NaN</td>\n",
       "      <td>43.1</td>\n",
       "      <td>5,000,000.00</td>\n",
       "    </tr>\n",
       "    <tr>\n",
       "      <th>1</th>\n",
       "      <td>51</td>\n",
       "      <td>Fox</td>\n",
       "      <td>111,319,000.00</td>\n",
       "      <td>172,000,000.00</td>\n",
       "      <td>45.3</td>\n",
       "      <td>5,000,000.00</td>\n",
       "    </tr>\n",
       "    <tr>\n",
       "      <th>2</th>\n",
       "      <td>50</td>\n",
       "      <td>CBS</td>\n",
       "      <td>111,864,000.00</td>\n",
       "      <td>167,000,000.00</td>\n",
       "      <td>46.6</td>\n",
       "      <td>5,000,000.00</td>\n",
       "    </tr>\n",
       "    <tr>\n",
       "      <th>3</th>\n",
       "      <td>49</td>\n",
       "      <td>NBC</td>\n",
       "      <td>114,442,000.00</td>\n",
       "      <td>168,000,000.00</td>\n",
       "      <td>47.5</td>\n",
       "      <td>4,500,000.00</td>\n",
       "    </tr>\n",
       "    <tr>\n",
       "      <th>4</th>\n",
       "      <td>48</td>\n",
       "      <td>Fox</td>\n",
       "      <td>112,191,000.00</td>\n",
       "      <td>167,000,000.00</td>\n",
       "      <td>46.7</td>\n",
       "      <td>4,000,000.00</td>\n",
       "    </tr>\n",
       "  </tbody>\n",
       "</table>\n",
       "</div>"
      ],
      "text/plain": [
       "   edicao_super_bowl canal media_us_telespectadores total_us_telespectadores  \\\n",
       "0                 52   NBC           103,390,000.00                      NaN   \n",
       "1                 51   Fox           111,319,000.00           172,000,000.00   \n",
       "2                 50   CBS           111,864,000.00           167,000,000.00   \n",
       "3                 49   NBC           114,442,000.00           168,000,000.00   \n",
       "4                 48   Fox           112,191,000.00           167,000,000.00   \n",
       "\n",
       "   nota_telespectadores custos_anuncio  \n",
       "0                  43.1   5,000,000.00  \n",
       "1                  45.3   5,000,000.00  \n",
       "2                  46.6   5,000,000.00  \n",
       "3                  47.5   4,500,000.00  \n",
       "4                  46.7   4,000,000.00  "
      ]
     },
     "execution_count": 18,
     "metadata": {},
     "output_type": "execute_result"
    }
   ],
   "source": [
    "df_tv = pd.read_csv(\"../data/tv.csv\", sep=\";\")\n",
    "print(df_tv.shape)\n",
    "df_tv.head()"
   ]
  },
  {
   "cell_type": "code",
   "execution_count": 19,
   "id": "23a7f64b",
   "metadata": {},
   "outputs": [
    {
     "name": "stdout",
     "output_type": "stream",
     "text": [
      "(134, 3)\n"
     ]
    },
    {
     "data": {
      "text/html": [
       "<div>\n",
       "<style scoped>\n",
       "    .dataframe tbody tr th:only-of-type {\n",
       "        vertical-align: middle;\n",
       "    }\n",
       "\n",
       "    .dataframe tbody tr th {\n",
       "        vertical-align: top;\n",
       "    }\n",
       "\n",
       "    .dataframe thead th {\n",
       "        text-align: right;\n",
       "    }\n",
       "</style>\n",
       "<table border=\"1\" class=\"dataframe\">\n",
       "  <thead>\n",
       "    <tr style=\"text-align: right;\">\n",
       "      <th></th>\n",
       "      <th>edicao_super_bowl</th>\n",
       "      <th>musico</th>\n",
       "      <th>numero_musicas</th>\n",
       "    </tr>\n",
       "  </thead>\n",
       "  <tbody>\n",
       "    <tr>\n",
       "      <th>0</th>\n",
       "      <td>52</td>\n",
       "      <td>Justin Timberlake</td>\n",
       "      <td>11.0</td>\n",
       "    </tr>\n",
       "    <tr>\n",
       "      <th>1</th>\n",
       "      <td>52</td>\n",
       "      <td>University of Minnesota Marching Band</td>\n",
       "      <td>1.0</td>\n",
       "    </tr>\n",
       "    <tr>\n",
       "      <th>2</th>\n",
       "      <td>51</td>\n",
       "      <td>Lady Gaga</td>\n",
       "      <td>7.0</td>\n",
       "    </tr>\n",
       "    <tr>\n",
       "      <th>3</th>\n",
       "      <td>50</td>\n",
       "      <td>Coldplay</td>\n",
       "      <td>6.0</td>\n",
       "    </tr>\n",
       "    <tr>\n",
       "      <th>4</th>\n",
       "      <td>50</td>\n",
       "      <td>Beyoncé</td>\n",
       "      <td>3.0</td>\n",
       "    </tr>\n",
       "  </tbody>\n",
       "</table>\n",
       "</div>"
      ],
      "text/plain": [
       "   edicao_super_bowl                                 musico  numero_musicas\n",
       "0                 52                      Justin Timberlake            11.0\n",
       "1                 52  University of Minnesota Marching Band             1.0\n",
       "2                 51                              Lady Gaga             7.0\n",
       "3                 50                               Coldplay             6.0\n",
       "4                 50                                Beyoncé             3.0"
      ]
     },
     "execution_count": 19,
     "metadata": {},
     "output_type": "execute_result"
    }
   ],
   "source": [
    "df_show = pd.read_csv(\"../data/musicos_show_intervalo.csv\", sep=\";\")\n",
    "print(df_show.shape)\n",
    "df_show.head()"
   ]
  },
  {
   "cell_type": "markdown",
   "id": "8820b926",
   "metadata": {},
   "source": [
    "## Tratamento da Base\n",
    "* Vamos primeiro encontrar o período de tempo que temos na base.\n",
    "* Vamos avaliar a ocorrência dos missing values  "
   ]
  },
  {
   "cell_type": "code",
   "execution_count": 21,
   "id": "4774c0ff",
   "metadata": {},
   "outputs": [],
   "source": [
    "df_super_bowls['data'] = pd.to_datetime(df_super_bowls['data'])"
   ]
  },
  {
   "cell_type": "code",
   "execution_count": 22,
   "id": "82c246ea",
   "metadata": {},
   "outputs": [
    {
     "name": "stdout",
     "output_type": "stream",
     "text": [
      "Os registros dos jogos contidos na base estão entre 1967-01-15 00:00:00 e 2018-04-02 00:00:00\n"
     ]
    }
   ],
   "source": [
    "data_min = df_super_bowls['data'].min()\n",
    "data_max = df_super_bowls['data'].max()\n",
    "print(\"Os registros dos jogos contidos na base estão entre {} e {}\".format(data_min, data_max))"
   ]
  },
  {
   "cell_type": "code",
   "execution_count": 23,
   "id": "1e2b481a",
   "metadata": {},
   "outputs": [
    {
     "data": {
      "text/plain": [
       "data                       0.000000\n",
       "edicao_super_bowl          0.000000\n",
       "estadio                    0.000000\n",
       "cidade                     0.000000\n",
       "estado                     0.000000\n",
       "numero_torcedores          0.000000\n",
       "time_vencedor              0.000000\n",
       "pontos_vencedor            0.000000\n",
       "quarterback_vencedor_1     0.000000\n",
       "quarterback_vencedor_2    96.153846\n",
       "tecnico_vencedor           0.000000\n",
       "time_perdedor              0.000000\n",
       "pontos_perdedor            0.000000\n",
       "quarterback_perdedor_1     0.000000\n",
       "quarterback_perdedor_2    94.230769\n",
       "tecnico_perdedor           0.000000\n",
       "pontos_total               0.000000\n",
       "pontos_diferenca           0.000000\n",
       "dtype: float64"
      ]
     },
     "execution_count": 23,
     "metadata": {},
     "output_type": "execute_result"
    }
   ],
   "source": [
    "( df_super_bowls.isnull().sum() / len(df_super_bowls) ) * 100"
   ]
  },
  {
   "cell_type": "code",
   "execution_count": 24,
   "id": "3f0ced51",
   "metadata": {},
   "outputs": [
    {
     "data": {
      "text/plain": [
       "edicao_super_bowl            0.000000\n",
       "canal                        0.000000\n",
       "media_us_telespectadores     0.000000\n",
       "total_us_telespectadores    71.698113\n",
       "nota_telespectadores         0.000000\n",
       "custos_anuncio               0.000000\n",
       "dtype: float64"
      ]
     },
     "execution_count": 24,
     "metadata": {},
     "output_type": "execute_result"
    }
   ],
   "source": [
    "(df_tv.isnull().sum() / len(df_tv)) * 100"
   ]
  },
  {
   "cell_type": "code",
   "execution_count": 25,
   "id": "19880bbf",
   "metadata": {},
   "outputs": [
    {
     "data": {
      "text/plain": [
       "edicao_super_bowl     0.000000\n",
       "musico                0.000000\n",
       "numero_musicas       34.328358\n",
       "dtype: float64"
      ]
     },
     "execution_count": 25,
     "metadata": {},
     "output_type": "execute_result"
    }
   ],
   "source": [
    "(df_show.isnull().sum() / len(df_show)) * 100"
   ]
  },
  {
   "cell_type": "markdown",
   "id": "593653f2",
   "metadata": {},
   "source": [
    "Com relação aos missing values:\n",
    "  * Note que as colunas quarterback_vencedor_2 e quarterback_perdedor_2 tem missing values acima de 94% \n",
    "  * A coluna total_us_telespectadores tem 71% de missing values. Enquanto a numero_musicas tem 34%."
   ]
  },
  {
   "cell_type": "markdown",
   "id": "d3056300",
   "metadata": {},
   "source": [
    "## Pergunta 2:\n",
    "\n",
    "### Analise a diferença de pontuação entre os times em cada jogo. Quais as principais conclusões que podem ser extraídas?"
   ]
  },
  {
   "cell_type": "markdown",
   "id": "e0a53d87",
   "metadata": {},
   "source": [
    "### Tabela Super Bowl "
   ]
  },
  {
   "cell_type": "code",
   "execution_count": 26,
   "id": "86e359da",
   "metadata": {},
   "outputs": [
    {
     "data": {
      "text/plain": [
       "Index(['data', 'edicao_super_bowl', 'estadio', 'cidade', 'estado',\n",
       "       'numero_torcedores', 'time_vencedor', 'pontos_vencedor',\n",
       "       'quarterback_vencedor_1', 'quarterback_vencedor_2', 'tecnico_vencedor',\n",
       "       'time_perdedor', 'pontos_perdedor', 'quarterback_perdedor_1',\n",
       "       'quarterback_perdedor_2', 'tecnico_perdedor', 'pontos_total',\n",
       "       'pontos_diferenca'],\n",
       "      dtype='object')"
      ]
     },
     "execution_count": 26,
     "metadata": {},
     "output_type": "execute_result"
    }
   ],
   "source": [
    "df_super_bowls.columns"
   ]
  },
  {
   "cell_type": "markdown",
   "id": "65afddc9",
   "metadata": {},
   "source": [
    "**Como estão distribuídas diferenças de pontos dos jogos?**"
   ]
  },
  {
   "cell_type": "code",
   "execution_count": 27,
   "id": "9805ab84",
   "metadata": {},
   "outputs": [
    {
     "data": {
      "image/png": "[encoded data removed]",
      "text/plain": [
       "<Figure size 360x360 with 1 Axes>"
      ]
     },
     "metadata": {
      "needs_background": "light"
     },
     "output_type": "display_data"
    }
   ],
   "source": [
    "# df_super_bowls['pontos_diferenca']\n",
    "\n",
    "sns.displot(data=df_super_bowls['pontos_diferenca'])\n",
    "plt.axvline(x=df_super_bowls['pontos_diferenca'].mean(), color='r', linestyle='-')\n",
    "plt.show()"
   ]
  },
  {
   "cell_type": "markdown",
   "id": "5c9e64c9",
   "metadata": {},
   "source": [
    "**Quais times venceram com uma diferença de pontos acima da média ?**"
   ]
  },
  {
   "cell_type": "code",
   "execution_count": 28,
   "id": "7542ca9a",
   "metadata": {},
   "outputs": [],
   "source": [
    "filtro = df_super_bowls['pontos_diferenca']>= df_super_bowls['pontos_diferenca'].mean()\n",
    "df_super_bowls['acima_media'] = np.where(filtro, 1, 0)"
   ]
  },
  {
   "cell_type": "code",
   "execution_count": 29,
   "id": "0fcf9164",
   "metadata": {},
   "outputs": [
    {
     "data": {
      "image/png": "[encoded data removed]",
      "text/plain": [
       "<Figure size 720x216 with 1 Axes>"
      ]
     },
     "metadata": {
      "needs_background": "light"
     },
     "output_type": "display_data"
    }
   ],
   "source": [
    "df_super_bowls[df_super_bowls['acima_media']==1]['time_vencedor'].value_counts(\n",
    "    normalize=False).plot(kind='bar', rot=80, figsize=(10,3))\n",
    "plt.show()"
   ]
  },
  {
   "cell_type": "markdown",
   "id": "a84f739d",
   "metadata": {},
   "source": [
    "**Destes times, q venceram com uma diferença de pontos acima da média, quão eficientes foram com relação ao total de vitórias?**"
   ]
  },
  {
   "cell_type": "code",
   "execution_count": 30,
   "id": "660046ac",
   "metadata": {},
   "outputs": [
    {
     "data": {
      "image/png": "[encoded data removed]",
      "text/plain": [
       "<Figure size 720x216 with 1 Axes>"
      ]
     },
     "metadata": {
      "needs_background": "light"
     },
     "output_type": "display_data"
    }
   ],
   "source": [
    "# Vamos inicialmente selecionar todos os times que venceram com uma diferença de pontos acima da média\n",
    "s = df_super_bowls[df_super_bowls['acima_media']==1]['time_vencedor'].value_counts(normalize=False)\n",
    "\n",
    "# Vamos calcular a porcentagem de vitórias q ficaram acima da média da diferença de pontos com relação ao total de vitórias\n",
    "dic = {}\n",
    "for time in s.index:\n",
    "    #print(time)\n",
    "    s[time]\n",
    "    len_ = len(df_super_bowls[df_super_bowls['time_vencedor']==time])\n",
    "    dic[time] = s[time] / len_\n",
    "\n",
    "# Por fim, mostramos num gráfico as porcentagens de vitórias, acima da média da diferença de pontos, para cada time. \n",
    "pd.Series(dic).plot(kind='bar', rot=80, figsize=(10,3))\n",
    "plt.show()"
   ]
  },
  {
   "cell_type": "markdown",
   "id": "b8f975d8",
   "metadata": {},
   "source": [
    "Nota:\n",
    "  * Já podemos ver que alguns times, quando venceram, o fizeram com uma grande margem de pontos. Mas vale ressaltar que estes tiveram poucas vitórias.\n",
    "  * Times que tiveram mais vitórias, como é o caso do Dallas Cowboys, venceram 80% delas com uma grande margem de pontos. No caso do San Francisco 49ers, ele venceu 60% dos jogos com uma diferença de pontos acima da média  "
   ]
  },
  {
   "cell_type": "markdown",
   "id": "96a52859",
   "metadata": {},
   "source": [
    "## Pergunta 3:\n",
    "\n",
    "### As diferenças de pontuação ou a soma da pontuação dos dois times afetam o número de telespectadores? Realize uma análise de correlação / regressão para verificar essa hipótese."
   ]
  },
  {
   "cell_type": "code",
   "execution_count": 31,
   "id": "404440eb",
   "metadata": {},
   "outputs": [
    {
     "data": {
      "text/html": [
       "<div>\n",
       "<style scoped>\n",
       "    .dataframe tbody tr th:only-of-type {\n",
       "        vertical-align: middle;\n",
       "    }\n",
       "\n",
       "    .dataframe tbody tr th {\n",
       "        vertical-align: top;\n",
       "    }\n",
       "\n",
       "    .dataframe thead th {\n",
       "        text-align: right;\n",
       "    }\n",
       "</style>\n",
       "<table border=\"1\" class=\"dataframe\">\n",
       "  <thead>\n",
       "    <tr style=\"text-align: right;\">\n",
       "      <th></th>\n",
       "      <th>edicao_super_bowl</th>\n",
       "      <th>canal</th>\n",
       "      <th>media_us_telespectadores</th>\n",
       "      <th>total_us_telespectadores</th>\n",
       "      <th>nota_telespectadores</th>\n",
       "      <th>custos_anuncio</th>\n",
       "      <th>data</th>\n",
       "      <th>estadio</th>\n",
       "      <th>cidade</th>\n",
       "      <th>estado</th>\n",
       "      <th>...</th>\n",
       "      <th>quarterback_vencedor_2</th>\n",
       "      <th>tecnico_vencedor</th>\n",
       "      <th>time_perdedor</th>\n",
       "      <th>pontos_perdedor</th>\n",
       "      <th>quarterback_perdedor_1</th>\n",
       "      <th>quarterback_perdedor_2</th>\n",
       "      <th>tecnico_perdedor</th>\n",
       "      <th>pontos_total</th>\n",
       "      <th>pontos_diferenca</th>\n",
       "      <th>acima_media</th>\n",
       "    </tr>\n",
       "  </thead>\n",
       "  <tbody>\n",
       "    <tr>\n",
       "      <th>0</th>\n",
       "      <td>52</td>\n",
       "      <td>NBC</td>\n",
       "      <td>103,390,000.00</td>\n",
       "      <td>NaN</td>\n",
       "      <td>43.1</td>\n",
       "      <td>5,000,000.00</td>\n",
       "      <td>2018-04-02</td>\n",
       "      <td>U.S. Bank Stadium</td>\n",
       "      <td>Minneapolis</td>\n",
       "      <td>Minnesota</td>\n",
       "      <td>...</td>\n",
       "      <td>NaN</td>\n",
       "      <td>Doug Pederson</td>\n",
       "      <td>New England Patriots</td>\n",
       "      <td>33</td>\n",
       "      <td>Tom Brady</td>\n",
       "      <td>NaN</td>\n",
       "      <td>Bill Belichick</td>\n",
       "      <td>74</td>\n",
       "      <td>8</td>\n",
       "      <td>0</td>\n",
       "    </tr>\n",
       "    <tr>\n",
       "      <th>1</th>\n",
       "      <td>51</td>\n",
       "      <td>Fox</td>\n",
       "      <td>111,319,000.00</td>\n",
       "      <td>172,000,000.00</td>\n",
       "      <td>45.3</td>\n",
       "      <td>5,000,000.00</td>\n",
       "      <td>2017-05-02</td>\n",
       "      <td>NRG Stadium</td>\n",
       "      <td>Houston</td>\n",
       "      <td>Texas</td>\n",
       "      <td>...</td>\n",
       "      <td>NaN</td>\n",
       "      <td>Bill Belichick</td>\n",
       "      <td>Atlanta Falcons</td>\n",
       "      <td>28</td>\n",
       "      <td>Matt Ryan</td>\n",
       "      <td>NaN</td>\n",
       "      <td>Dan Quinn</td>\n",
       "      <td>62</td>\n",
       "      <td>6</td>\n",
       "      <td>0</td>\n",
       "    </tr>\n",
       "    <tr>\n",
       "      <th>2</th>\n",
       "      <td>50</td>\n",
       "      <td>CBS</td>\n",
       "      <td>111,864,000.00</td>\n",
       "      <td>167,000,000.00</td>\n",
       "      <td>46.6</td>\n",
       "      <td>5,000,000.00</td>\n",
       "      <td>2016-07-02</td>\n",
       "      <td>Levi's Stadium</td>\n",
       "      <td>Santa Clara</td>\n",
       "      <td>California</td>\n",
       "      <td>...</td>\n",
       "      <td>NaN</td>\n",
       "      <td>Gary Kubiak</td>\n",
       "      <td>Carolina Panthers</td>\n",
       "      <td>10</td>\n",
       "      <td>Cam Newton</td>\n",
       "      <td>NaN</td>\n",
       "      <td>Ron Rivera</td>\n",
       "      <td>34</td>\n",
       "      <td>14</td>\n",
       "      <td>0</td>\n",
       "    </tr>\n",
       "    <tr>\n",
       "      <th>3</th>\n",
       "      <td>49</td>\n",
       "      <td>NBC</td>\n",
       "      <td>114,442,000.00</td>\n",
       "      <td>168,000,000.00</td>\n",
       "      <td>47.5</td>\n",
       "      <td>4,500,000.00</td>\n",
       "      <td>2015-01-02</td>\n",
       "      <td>University of Phoenix Stadium</td>\n",
       "      <td>Glendale</td>\n",
       "      <td>Arizona</td>\n",
       "      <td>...</td>\n",
       "      <td>NaN</td>\n",
       "      <td>Bill Belichick</td>\n",
       "      <td>Seattle Seahawks</td>\n",
       "      <td>24</td>\n",
       "      <td>Russell Wilson</td>\n",
       "      <td>NaN</td>\n",
       "      <td>Pete Carroll</td>\n",
       "      <td>52</td>\n",
       "      <td>4</td>\n",
       "      <td>0</td>\n",
       "    </tr>\n",
       "    <tr>\n",
       "      <th>4</th>\n",
       "      <td>48</td>\n",
       "      <td>Fox</td>\n",
       "      <td>112,191,000.00</td>\n",
       "      <td>167,000,000.00</td>\n",
       "      <td>46.7</td>\n",
       "      <td>4,000,000.00</td>\n",
       "      <td>2014-02-02</td>\n",
       "      <td>MetLife Stadium</td>\n",
       "      <td>East Rutherford</td>\n",
       "      <td>New Jersey</td>\n",
       "      <td>...</td>\n",
       "      <td>NaN</td>\n",
       "      <td>Pete Carroll</td>\n",
       "      <td>Denver Broncos</td>\n",
       "      <td>8</td>\n",
       "      <td>Peyton Manning</td>\n",
       "      <td>NaN</td>\n",
       "      <td>John Fox</td>\n",
       "      <td>51</td>\n",
       "      <td>35</td>\n",
       "      <td>1</td>\n",
       "    </tr>\n",
       "  </tbody>\n",
       "</table>\n",
       "<p>5 rows × 24 columns</p>\n",
       "</div>"
      ],
      "text/plain": [
       "   edicao_super_bowl canal media_us_telespectadores total_us_telespectadores  \\\n",
       "0                 52   NBC           103,390,000.00                      NaN   \n",
       "1                 51   Fox           111,319,000.00           172,000,000.00   \n",
       "2                 50   CBS           111,864,000.00           167,000,000.00   \n",
       "3                 49   NBC           114,442,000.00           168,000,000.00   \n",
       "4                 48   Fox           112,191,000.00           167,000,000.00   \n",
       "\n",
       "   nota_telespectadores custos_anuncio       data  \\\n",
       "0                  43.1   5,000,000.00 2018-04-02   \n",
       "1                  45.3   5,000,000.00 2017-05-02   \n",
       "2                  46.6   5,000,000.00 2016-07-02   \n",
       "3                  47.5   4,500,000.00 2015-01-02   \n",
       "4                  46.7   4,000,000.00 2014-02-02   \n",
       "\n",
       "                         estadio           cidade      estado  ...  \\\n",
       "0              U.S. Bank Stadium      Minneapolis   Minnesota  ...   \n",
       "1                    NRG Stadium          Houston       Texas  ...   \n",
       "2                 Levi's Stadium      Santa Clara  California  ...   \n",
       "3  University of Phoenix Stadium         Glendale     Arizona  ...   \n",
       "4                MetLife Stadium  East Rutherford  New Jersey  ...   \n",
       "\n",
       "   quarterback_vencedor_2 tecnico_vencedor         time_perdedor  \\\n",
       "0                     NaN    Doug Pederson  New England Patriots   \n",
       "1                     NaN   Bill Belichick       Atlanta Falcons   \n",
       "2                     NaN      Gary Kubiak     Carolina Panthers   \n",
       "3                     NaN   Bill Belichick      Seattle Seahawks   \n",
       "4                     NaN     Pete Carroll        Denver Broncos   \n",
       "\n",
       "  pontos_perdedor quarterback_perdedor_1 quarterback_perdedor_2  \\\n",
       "0              33              Tom Brady                    NaN   \n",
       "1              28              Matt Ryan                    NaN   \n",
       "2              10             Cam Newton                    NaN   \n",
       "3              24         Russell Wilson                    NaN   \n",
       "4               8         Peyton Manning                    NaN   \n",
       "\n",
       "  tecnico_perdedor  pontos_total pontos_diferenca acima_media  \n",
       "0   Bill Belichick            74                8           0  \n",
       "1        Dan Quinn            62                6           0  \n",
       "2       Ron Rivera            34               14           0  \n",
       "3     Pete Carroll            52                4           0  \n",
       "4         John Fox            51               35           1  \n",
       "\n",
       "[5 rows x 24 columns]"
      ]
     },
     "execution_count": 31,
     "metadata": {},
     "output_type": "execute_result"
    }
   ],
   "source": [
    "df_tv_bowls = df_tv.merge(df_super_bowls, how='left', on='edicao_super_bowl')\n",
    "df_tv_bowls.head()"
   ]
  },
  {
   "cell_type": "code",
   "execution_count": 32,
   "id": "15b5babf",
   "metadata": {},
   "outputs": [
    {
     "data": {
      "text/plain": [
       "71.69811320754717"
      ]
     },
     "execution_count": 32,
     "metadata": {},
     "output_type": "execute_result"
    }
   ],
   "source": [
    "# A coluna que traz o total de telespectadores tem mais de 70% \n",
    "\n",
    "df_tv_bowls['total_us_telespectadores'].isnull().sum() / len(df_tv_bowls['total_us_telespectadores']) * 100"
   ]
  },
  {
   "cell_type": "code",
   "execution_count": 33,
   "id": "8abe71d1",
   "metadata": {},
   "outputs": [],
   "source": [
    "# Neste caso, vamos usar a media dos telespectadores a fim de analisarmos possíveis correlações com os pontos dos times.\n",
    "\n",
    "df_tv_bowls['media_us_telespectadores'] = df_tv_bowls['media_us_telespectadores'].apply(lambda x: x.replace(\",\",\"\") )\n",
    "df_tv_bowls['media_us_telespectadores'] = df_tv_bowls['media_us_telespectadores'].astype(float, errors = 'raise')"
   ]
  },
  {
   "cell_type": "code",
   "execution_count": 34,
   "id": "0f1196a7",
   "metadata": {},
   "outputs": [
    {
     "data": {
      "image/png": "[encoded data removed]",
      "text/plain": [
       "<Figure size 432x288 with 1 Axes>"
      ]
     },
     "metadata": {
      "needs_background": "light"
     },
     "output_type": "display_data"
    }
   ],
   "source": [
    "sns.regplot(x=\"media_us_telespectadores\", y=\"pontos_diferenca\", data=df_tv_bowls);"
   ]
  },
  {
   "cell_type": "code",
   "execution_count": 35,
   "id": "37a98b7c",
   "metadata": {},
   "outputs": [
    {
     "data": {
      "image/png": "[encoded data removed]",
      "text/plain": [
       "<Figure size 432x288 with 1 Axes>"
      ]
     },
     "metadata": {
      "needs_background": "light"
     },
     "output_type": "display_data"
    }
   ],
   "source": [
    "sns.regplot(x=\"media_us_telespectadores\", y=\"pontos_total\", data=df_tv_bowls);"
   ]
  },
  {
   "cell_type": "markdown",
   "id": "536d422c",
   "metadata": {},
   "source": [
    "Nota:\n",
    "  * Podemos notar que há pouca correlação entre a média dos telespectadores e a diferença dos pontos nos jogos. \n",
    "  * Por outro lado, vemos que há uma correlação do tipo positiva entre a média dos telespectadores e o total dos pontos nos jogos. Ou seja, Quando há um aumento na média dos telespectadores assistindo os jogos podemos notar um aumento no total de pontos feitos nos jogos."
   ]
  },
  {
   "cell_type": "markdown",
   "id": "264f4c87",
   "metadata": {},
   "source": [
    "## Pergunta 4:\n",
    "\n",
    "### Realize uma análise ao longo do tempo da evolução do número de telespectadores, custos dos anúncios e nota dos telespectadores. Existe alguma relação entre os parâmetros?"
   ]
  },
  {
   "cell_type": "code",
   "execution_count": 36,
   "id": "d11e8299",
   "metadata": {},
   "outputs": [
    {
     "data": {
      "text/html": [
       "<div>\n",
       "<style scoped>\n",
       "    .dataframe tbody tr th:only-of-type {\n",
       "        vertical-align: middle;\n",
       "    }\n",
       "\n",
       "    .dataframe tbody tr th {\n",
       "        vertical-align: top;\n",
       "    }\n",
       "\n",
       "    .dataframe thead th {\n",
       "        text-align: right;\n",
       "    }\n",
       "</style>\n",
       "<table border=\"1\" class=\"dataframe\">\n",
       "  <thead>\n",
       "    <tr style=\"text-align: right;\">\n",
       "      <th></th>\n",
       "      <th>edicao_super_bowl</th>\n",
       "      <th>canal</th>\n",
       "      <th>media_us_telespectadores</th>\n",
       "      <th>total_us_telespectadores</th>\n",
       "      <th>nota_telespectadores</th>\n",
       "      <th>custos_anuncio</th>\n",
       "      <th>data</th>\n",
       "      <th>estadio</th>\n",
       "      <th>cidade</th>\n",
       "      <th>estado</th>\n",
       "      <th>...</th>\n",
       "      <th>quarterback_vencedor_2</th>\n",
       "      <th>tecnico_vencedor</th>\n",
       "      <th>time_perdedor</th>\n",
       "      <th>pontos_perdedor</th>\n",
       "      <th>quarterback_perdedor_1</th>\n",
       "      <th>quarterback_perdedor_2</th>\n",
       "      <th>tecnico_perdedor</th>\n",
       "      <th>pontos_total</th>\n",
       "      <th>pontos_diferenca</th>\n",
       "      <th>acima_media</th>\n",
       "    </tr>\n",
       "  </thead>\n",
       "  <tbody>\n",
       "    <tr>\n",
       "      <th>0</th>\n",
       "      <td>52</td>\n",
       "      <td>NBC</td>\n",
       "      <td>103390000.0</td>\n",
       "      <td>NaN</td>\n",
       "      <td>43.1</td>\n",
       "      <td>5,000,000.00</td>\n",
       "      <td>2018-04-02</td>\n",
       "      <td>U.S. Bank Stadium</td>\n",
       "      <td>Minneapolis</td>\n",
       "      <td>Minnesota</td>\n",
       "      <td>...</td>\n",
       "      <td>NaN</td>\n",
       "      <td>Doug Pederson</td>\n",
       "      <td>New England Patriots</td>\n",
       "      <td>33</td>\n",
       "      <td>Tom Brady</td>\n",
       "      <td>NaN</td>\n",
       "      <td>Bill Belichick</td>\n",
       "      <td>74</td>\n",
       "      <td>8</td>\n",
       "      <td>0</td>\n",
       "    </tr>\n",
       "    <tr>\n",
       "      <th>1</th>\n",
       "      <td>51</td>\n",
       "      <td>Fox</td>\n",
       "      <td>111319000.0</td>\n",
       "      <td>172,000,000.00</td>\n",
       "      <td>45.3</td>\n",
       "      <td>5,000,000.00</td>\n",
       "      <td>2017-05-02</td>\n",
       "      <td>NRG Stadium</td>\n",
       "      <td>Houston</td>\n",
       "      <td>Texas</td>\n",
       "      <td>...</td>\n",
       "      <td>NaN</td>\n",
       "      <td>Bill Belichick</td>\n",
       "      <td>Atlanta Falcons</td>\n",
       "      <td>28</td>\n",
       "      <td>Matt Ryan</td>\n",
       "      <td>NaN</td>\n",
       "      <td>Dan Quinn</td>\n",
       "      <td>62</td>\n",
       "      <td>6</td>\n",
       "      <td>0</td>\n",
       "    </tr>\n",
       "    <tr>\n",
       "      <th>2</th>\n",
       "      <td>50</td>\n",
       "      <td>CBS</td>\n",
       "      <td>111864000.0</td>\n",
       "      <td>167,000,000.00</td>\n",
       "      <td>46.6</td>\n",
       "      <td>5,000,000.00</td>\n",
       "      <td>2016-07-02</td>\n",
       "      <td>Levi's Stadium</td>\n",
       "      <td>Santa Clara</td>\n",
       "      <td>California</td>\n",
       "      <td>...</td>\n",
       "      <td>NaN</td>\n",
       "      <td>Gary Kubiak</td>\n",
       "      <td>Carolina Panthers</td>\n",
       "      <td>10</td>\n",
       "      <td>Cam Newton</td>\n",
       "      <td>NaN</td>\n",
       "      <td>Ron Rivera</td>\n",
       "      <td>34</td>\n",
       "      <td>14</td>\n",
       "      <td>0</td>\n",
       "    </tr>\n",
       "    <tr>\n",
       "      <th>3</th>\n",
       "      <td>49</td>\n",
       "      <td>NBC</td>\n",
       "      <td>114442000.0</td>\n",
       "      <td>168,000,000.00</td>\n",
       "      <td>47.5</td>\n",
       "      <td>4,500,000.00</td>\n",
       "      <td>2015-01-02</td>\n",
       "      <td>University of Phoenix Stadium</td>\n",
       "      <td>Glendale</td>\n",
       "      <td>Arizona</td>\n",
       "      <td>...</td>\n",
       "      <td>NaN</td>\n",
       "      <td>Bill Belichick</td>\n",
       "      <td>Seattle Seahawks</td>\n",
       "      <td>24</td>\n",
       "      <td>Russell Wilson</td>\n",
       "      <td>NaN</td>\n",
       "      <td>Pete Carroll</td>\n",
       "      <td>52</td>\n",
       "      <td>4</td>\n",
       "      <td>0</td>\n",
       "    </tr>\n",
       "    <tr>\n",
       "      <th>4</th>\n",
       "      <td>48</td>\n",
       "      <td>Fox</td>\n",
       "      <td>112191000.0</td>\n",
       "      <td>167,000,000.00</td>\n",
       "      <td>46.7</td>\n",
       "      <td>4,000,000.00</td>\n",
       "      <td>2014-02-02</td>\n",
       "      <td>MetLife Stadium</td>\n",
       "      <td>East Rutherford</td>\n",
       "      <td>New Jersey</td>\n",
       "      <td>...</td>\n",
       "      <td>NaN</td>\n",
       "      <td>Pete Carroll</td>\n",
       "      <td>Denver Broncos</td>\n",
       "      <td>8</td>\n",
       "      <td>Peyton Manning</td>\n",
       "      <td>NaN</td>\n",
       "      <td>John Fox</td>\n",
       "      <td>51</td>\n",
       "      <td>35</td>\n",
       "      <td>1</td>\n",
       "    </tr>\n",
       "  </tbody>\n",
       "</table>\n",
       "<p>5 rows × 24 columns</p>\n",
       "</div>"
      ],
      "text/plain": [
       "   edicao_super_bowl canal  media_us_telespectadores total_us_telespectadores  \\\n",
       "0                 52   NBC               103390000.0                      NaN   \n",
       "1                 51   Fox               111319000.0           172,000,000.00   \n",
       "2                 50   CBS               111864000.0           167,000,000.00   \n",
       "3                 49   NBC               114442000.0           168,000,000.00   \n",
       "4                 48   Fox               112191000.0           167,000,000.00   \n",
       "\n",
       "   nota_telespectadores custos_anuncio       data  \\\n",
       "0                  43.1   5,000,000.00 2018-04-02   \n",
       "1                  45.3   5,000,000.00 2017-05-02   \n",
       "2                  46.6   5,000,000.00 2016-07-02   \n",
       "3                  47.5   4,500,000.00 2015-01-02   \n",
       "4                  46.7   4,000,000.00 2014-02-02   \n",
       "\n",
       "                         estadio           cidade      estado  ...  \\\n",
       "0              U.S. Bank Stadium      Minneapolis   Minnesota  ...   \n",
       "1                    NRG Stadium          Houston       Texas  ...   \n",
       "2                 Levi's Stadium      Santa Clara  California  ...   \n",
       "3  University of Phoenix Stadium         Glendale     Arizona  ...   \n",
       "4                MetLife Stadium  East Rutherford  New Jersey  ...   \n",
       "\n",
       "   quarterback_vencedor_2 tecnico_vencedor         time_perdedor  \\\n",
       "0                     NaN    Doug Pederson  New England Patriots   \n",
       "1                     NaN   Bill Belichick       Atlanta Falcons   \n",
       "2                     NaN      Gary Kubiak     Carolina Panthers   \n",
       "3                     NaN   Bill Belichick      Seattle Seahawks   \n",
       "4                     NaN     Pete Carroll        Denver Broncos   \n",
       "\n",
       "  pontos_perdedor quarterback_perdedor_1 quarterback_perdedor_2  \\\n",
       "0              33              Tom Brady                    NaN   \n",
       "1              28              Matt Ryan                    NaN   \n",
       "2              10             Cam Newton                    NaN   \n",
       "3              24         Russell Wilson                    NaN   \n",
       "4               8         Peyton Manning                    NaN   \n",
       "\n",
       "  tecnico_perdedor  pontos_total pontos_diferenca acima_media  \n",
       "0   Bill Belichick            74                8           0  \n",
       "1        Dan Quinn            62                6           0  \n",
       "2       Ron Rivera            34               14           0  \n",
       "3     Pete Carroll            52                4           0  \n",
       "4         John Fox            51               35           1  \n",
       "\n",
       "[5 rows x 24 columns]"
      ]
     },
     "execution_count": 36,
     "metadata": {},
     "output_type": "execute_result"
    }
   ],
   "source": [
    "df_tv_bowls.head()"
   ]
  },
  {
   "cell_type": "code",
   "execution_count": 37,
   "id": "774457d7",
   "metadata": {},
   "outputs": [
    {
     "data": {
      "image/png": "[encoded data removed]",
      "text/plain": [
       "<Figure size 432x288 with 1 Axes>"
      ]
     },
     "metadata": {
      "needs_background": "light"
     },
     "output_type": "display_data"
    }
   ],
   "source": [
    "sns.lineplot(data=df_tv_bowls, x=\"data\", y=\"media_us_telespectadores\")\n",
    "plt.show()"
   ]
  },
  {
   "cell_type": "code",
   "execution_count": 38,
   "id": "8154be95",
   "metadata": {},
   "outputs": [
    {
     "data": {
      "image/png": "[encoded data removed]",
      "text/plain": [
       "<Figure size 432x288 with 1 Axes>"
      ]
     },
     "metadata": {
      "needs_background": "light"
     },
     "output_type": "display_data"
    }
   ],
   "source": [
    "df_tv_bowls['custos_anuncio'] = df_tv_bowls['custos_anuncio'].apply(lambda x: x.replace(\",\",\"\") )\n",
    "df_tv_bowls['custos_anuncio'] = df_tv_bowls['custos_anuncio'].astype(float, errors = 'raise')\n",
    "\n",
    "sns.lineplot(data=df_tv_bowls, x=\"data\", y=\"custos_anuncio\")\n",
    "plt.show()"
   ]
  },
  {
   "cell_type": "code",
   "execution_count": 39,
   "id": "c4ac3db5",
   "metadata": {},
   "outputs": [
    {
     "data": {
      "image/png": "[encoded data removed]",
      "text/plain": [
       "<Figure size 432x288 with 1 Axes>"
      ]
     },
     "metadata": {
      "needs_background": "light"
     },
     "output_type": "display_data"
    }
   ],
   "source": [
    "sns.lineplot(data=df_tv_bowls, x=\"data\", y=\"nota_telespectadores\")\n",
    "plt.show()"
   ]
  },
  {
   "cell_type": "markdown",
   "id": "7324def3",
   "metadata": {},
   "source": [
    "Nota:\n",
    "  * No primeiro plot, vemos que a média dos telespectadores aumentou com o tempo seguindo um crescimento monotônico. \n",
    "  * No segundo plot, vemos que houve um acentuado crescimento dos custos dos anúncios durante os anos. O crescimento se assemelha a um do tipo exponencial. \n",
    "  * No último plot, vemos que houve um forte crescimento nas notas dos telespectadores entre os anos de 1970 a 1980. Após isso, houve uma leve flutuação e seguiu num comportamento normal."
   ]
  },
  {
   "cell_type": "markdown",
   "id": "5cc4e396",
   "metadata": {},
   "source": [
    "## Pergunta 5:\n",
    "\n",
    "### Quais os artistas que mais participaram de shows e quais aqueles que apresentaram mais músicas jogo?"
   ]
  },
  {
   "cell_type": "code",
   "execution_count": 40,
   "id": "9f5b492f",
   "metadata": {},
   "outputs": [
    {
     "data": {
      "text/html": [
       "<div>\n",
       "<style scoped>\n",
       "    .dataframe tbody tr th:only-of-type {\n",
       "        vertical-align: middle;\n",
       "    }\n",
       "\n",
       "    .dataframe tbody tr th {\n",
       "        vertical-align: top;\n",
       "    }\n",
       "\n",
       "    .dataframe thead th {\n",
       "        text-align: right;\n",
       "    }\n",
       "</style>\n",
       "<table border=\"1\" class=\"dataframe\">\n",
       "  <thead>\n",
       "    <tr style=\"text-align: right;\">\n",
       "      <th></th>\n",
       "      <th>edicao_super_bowl</th>\n",
       "      <th>musico</th>\n",
       "      <th>numero_musicas</th>\n",
       "    </tr>\n",
       "  </thead>\n",
       "  <tbody>\n",
       "    <tr>\n",
       "      <th>0</th>\n",
       "      <td>52</td>\n",
       "      <td>Justin Timberlake</td>\n",
       "      <td>11.0</td>\n",
       "    </tr>\n",
       "    <tr>\n",
       "      <th>1</th>\n",
       "      <td>52</td>\n",
       "      <td>University of Minnesota Marching Band</td>\n",
       "      <td>1.0</td>\n",
       "    </tr>\n",
       "    <tr>\n",
       "      <th>2</th>\n",
       "      <td>51</td>\n",
       "      <td>Lady Gaga</td>\n",
       "      <td>7.0</td>\n",
       "    </tr>\n",
       "    <tr>\n",
       "      <th>3</th>\n",
       "      <td>50</td>\n",
       "      <td>Coldplay</td>\n",
       "      <td>6.0</td>\n",
       "    </tr>\n",
       "    <tr>\n",
       "      <th>4</th>\n",
       "      <td>50</td>\n",
       "      <td>Beyoncé</td>\n",
       "      <td>3.0</td>\n",
       "    </tr>\n",
       "  </tbody>\n",
       "</table>\n",
       "</div>"
      ],
      "text/plain": [
       "   edicao_super_bowl                                 musico  numero_musicas\n",
       "0                 52                      Justin Timberlake            11.0\n",
       "1                 52  University of Minnesota Marching Band             1.0\n",
       "2                 51                              Lady Gaga             7.0\n",
       "3                 50                               Coldplay             6.0\n",
       "4                 50                                Beyoncé             3.0"
      ]
     },
     "execution_count": 40,
     "metadata": {},
     "output_type": "execute_result"
    }
   ],
   "source": [
    "df_show.head()"
   ]
  },
  {
   "cell_type": "code",
   "execution_count": 41,
   "id": "108ff08c",
   "metadata": {},
   "outputs": [
    {
     "data": {
      "image/png": "[encoded data removed]",
      "text/plain": [
       "<Figure size 1080x216 with 1 Axes>"
      ]
     },
     "metadata": {
      "needs_background": "light"
     },
     "output_type": "display_data"
    }
   ],
   "source": [
    "df_show['musico'].value_counts(normalize=False)[0:15].plot(kind='bar', rot=80, figsize=(15,3))\n",
    "plt.show()"
   ]
  },
  {
   "cell_type": "code",
   "execution_count": 42,
   "id": "9c751182",
   "metadata": {},
   "outputs": [
    {
     "data": {
      "image/png": "[encoded data removed]",
      "text/plain": [
       "<Figure size 1080x216 with 1 Axes>"
      ]
     },
     "metadata": {
      "needs_background": "light"
     },
     "output_type": "display_data"
    }
   ],
   "source": [
    "df_show.dropna(subset=['numero_musicas']).groupby('musico').\\\n",
    "agg({'numero_musicas': 'sum'}).\\\n",
    "sort_values(by=['numero_musicas'], ascending=False)[0:15].plot(kind='bar', rot=80, figsize=(15,3))\n",
    "plt.show()"
   ]
  },
  {
   "cell_type": "markdown",
   "id": "f615e61b",
   "metadata": {},
   "source": [
    "Nota:\n",
    "  * No primeiro plot, temos os 15 músicos que mais fizeram apresentações musicais nos jogos.  \n",
    "  * No segundo plot, temos os 15 artistas que mais quantidade de músicas tocaram nos jogos."
   ]
  },
  {
   "cell_type": "markdown",
   "id": "09c1d507",
   "metadata": {},
   "source": [
    "## Pergunta 6:\n",
    "\n",
    "### Existe alguma relação entre a performance dos times e os shows dos intervalos (ex.: artista, número de músicas)?\n",
    "\n",
    "* Como primeiro passo vamos definir como perfomance de um time como o percentual de vitórias com relação ao total de jogos que ele jogou. "
   ]
  },
  {
   "cell_type": "code",
   "execution_count": 43,
   "id": "73a26c77",
   "metadata": {},
   "outputs": [
    {
     "data": {
      "text/html": [
       "<div>\n",
       "<style scoped>\n",
       "    .dataframe tbody tr th:only-of-type {\n",
       "        vertical-align: middle;\n",
       "    }\n",
       "\n",
       "    .dataframe tbody tr th {\n",
       "        vertical-align: top;\n",
       "    }\n",
       "\n",
       "    .dataframe thead th {\n",
       "        text-align: right;\n",
       "    }\n",
       "</style>\n",
       "<table border=\"1\" class=\"dataframe\">\n",
       "  <thead>\n",
       "    <tr style=\"text-align: right;\">\n",
       "      <th></th>\n",
       "      <th>data</th>\n",
       "      <th>edicao_super_bowl</th>\n",
       "      <th>estadio</th>\n",
       "      <th>cidade</th>\n",
       "      <th>estado</th>\n",
       "      <th>numero_torcedores</th>\n",
       "      <th>time_vencedor</th>\n",
       "      <th>pontos_vencedor</th>\n",
       "      <th>quarterback_vencedor_1</th>\n",
       "      <th>quarterback_vencedor_2</th>\n",
       "      <th>...</th>\n",
       "      <th>time_perdedor</th>\n",
       "      <th>pontos_perdedor</th>\n",
       "      <th>quarterback_perdedor_1</th>\n",
       "      <th>quarterback_perdedor_2</th>\n",
       "      <th>tecnico_perdedor</th>\n",
       "      <th>pontos_total</th>\n",
       "      <th>pontos_diferenca</th>\n",
       "      <th>acima_media</th>\n",
       "      <th>musico</th>\n",
       "      <th>numero_musicas</th>\n",
       "    </tr>\n",
       "  </thead>\n",
       "  <tbody>\n",
       "    <tr>\n",
       "      <th>0</th>\n",
       "      <td>2018-04-02</td>\n",
       "      <td>52</td>\n",
       "      <td>U.S. Bank Stadium</td>\n",
       "      <td>Minneapolis</td>\n",
       "      <td>Minnesota</td>\n",
       "      <td>67612</td>\n",
       "      <td>Philadelphia Eagles</td>\n",
       "      <td>41</td>\n",
       "      <td>Nick Foles</td>\n",
       "      <td>NaN</td>\n",
       "      <td>...</td>\n",
       "      <td>New England Patriots</td>\n",
       "      <td>33</td>\n",
       "      <td>Tom Brady</td>\n",
       "      <td>NaN</td>\n",
       "      <td>Bill Belichick</td>\n",
       "      <td>74</td>\n",
       "      <td>8</td>\n",
       "      <td>0</td>\n",
       "      <td>Justin Timberlake</td>\n",
       "      <td>11.0</td>\n",
       "    </tr>\n",
       "    <tr>\n",
       "      <th>1</th>\n",
       "      <td>2018-04-02</td>\n",
       "      <td>52</td>\n",
       "      <td>U.S. Bank Stadium</td>\n",
       "      <td>Minneapolis</td>\n",
       "      <td>Minnesota</td>\n",
       "      <td>67612</td>\n",
       "      <td>Philadelphia Eagles</td>\n",
       "      <td>41</td>\n",
       "      <td>Nick Foles</td>\n",
       "      <td>NaN</td>\n",
       "      <td>...</td>\n",
       "      <td>New England Patriots</td>\n",
       "      <td>33</td>\n",
       "      <td>Tom Brady</td>\n",
       "      <td>NaN</td>\n",
       "      <td>Bill Belichick</td>\n",
       "      <td>74</td>\n",
       "      <td>8</td>\n",
       "      <td>0</td>\n",
       "      <td>University of Minnesota Marching Band</td>\n",
       "      <td>1.0</td>\n",
       "    </tr>\n",
       "    <tr>\n",
       "      <th>2</th>\n",
       "      <td>2017-05-02</td>\n",
       "      <td>51</td>\n",
       "      <td>NRG Stadium</td>\n",
       "      <td>Houston</td>\n",
       "      <td>Texas</td>\n",
       "      <td>70807</td>\n",
       "      <td>New England Patriots</td>\n",
       "      <td>34</td>\n",
       "      <td>Tom Brady</td>\n",
       "      <td>NaN</td>\n",
       "      <td>...</td>\n",
       "      <td>Atlanta Falcons</td>\n",
       "      <td>28</td>\n",
       "      <td>Matt Ryan</td>\n",
       "      <td>NaN</td>\n",
       "      <td>Dan Quinn</td>\n",
       "      <td>62</td>\n",
       "      <td>6</td>\n",
       "      <td>0</td>\n",
       "      <td>Lady Gaga</td>\n",
       "      <td>7.0</td>\n",
       "    </tr>\n",
       "    <tr>\n",
       "      <th>3</th>\n",
       "      <td>2016-07-02</td>\n",
       "      <td>50</td>\n",
       "      <td>Levi's Stadium</td>\n",
       "      <td>Santa Clara</td>\n",
       "      <td>California</td>\n",
       "      <td>71088</td>\n",
       "      <td>Denver Broncos</td>\n",
       "      <td>24</td>\n",
       "      <td>Peyton Manning</td>\n",
       "      <td>NaN</td>\n",
       "      <td>...</td>\n",
       "      <td>Carolina Panthers</td>\n",
       "      <td>10</td>\n",
       "      <td>Cam Newton</td>\n",
       "      <td>NaN</td>\n",
       "      <td>Ron Rivera</td>\n",
       "      <td>34</td>\n",
       "      <td>14</td>\n",
       "      <td>0</td>\n",
       "      <td>Coldplay</td>\n",
       "      <td>6.0</td>\n",
       "    </tr>\n",
       "    <tr>\n",
       "      <th>4</th>\n",
       "      <td>2016-07-02</td>\n",
       "      <td>50</td>\n",
       "      <td>Levi's Stadium</td>\n",
       "      <td>Santa Clara</td>\n",
       "      <td>California</td>\n",
       "      <td>71088</td>\n",
       "      <td>Denver Broncos</td>\n",
       "      <td>24</td>\n",
       "      <td>Peyton Manning</td>\n",
       "      <td>NaN</td>\n",
       "      <td>...</td>\n",
       "      <td>Carolina Panthers</td>\n",
       "      <td>10</td>\n",
       "      <td>Cam Newton</td>\n",
       "      <td>NaN</td>\n",
       "      <td>Ron Rivera</td>\n",
       "      <td>34</td>\n",
       "      <td>14</td>\n",
       "      <td>0</td>\n",
       "      <td>Beyoncé</td>\n",
       "      <td>3.0</td>\n",
       "    </tr>\n",
       "  </tbody>\n",
       "</table>\n",
       "<p>5 rows × 21 columns</p>\n",
       "</div>"
      ],
      "text/plain": [
       "        data  edicao_super_bowl            estadio       cidade      estado  \\\n",
       "0 2018-04-02                 52  U.S. Bank Stadium  Minneapolis   Minnesota   \n",
       "1 2018-04-02                 52  U.S. Bank Stadium  Minneapolis   Minnesota   \n",
       "2 2017-05-02                 51        NRG Stadium      Houston       Texas   \n",
       "3 2016-07-02                 50     Levi's Stadium  Santa Clara  California   \n",
       "4 2016-07-02                 50     Levi's Stadium  Santa Clara  California   \n",
       "\n",
       "   numero_torcedores         time_vencedor  pontos_vencedor  \\\n",
       "0              67612   Philadelphia Eagles               41   \n",
       "1              67612   Philadelphia Eagles               41   \n",
       "2              70807  New England Patriots               34   \n",
       "3              71088        Denver Broncos               24   \n",
       "4              71088        Denver Broncos               24   \n",
       "\n",
       "  quarterback_vencedor_1 quarterback_vencedor_2  ...         time_perdedor  \\\n",
       "0             Nick Foles                    NaN  ...  New England Patriots   \n",
       "1             Nick Foles                    NaN  ...  New England Patriots   \n",
       "2              Tom Brady                    NaN  ...       Atlanta Falcons   \n",
       "3         Peyton Manning                    NaN  ...     Carolina Panthers   \n",
       "4         Peyton Manning                    NaN  ...     Carolina Panthers   \n",
       "\n",
       "  pontos_perdedor  quarterback_perdedor_1 quarterback_perdedor_2  \\\n",
       "0              33               Tom Brady                    NaN   \n",
       "1              33               Tom Brady                    NaN   \n",
       "2              28               Matt Ryan                    NaN   \n",
       "3              10              Cam Newton                    NaN   \n",
       "4              10              Cam Newton                    NaN   \n",
       "\n",
       "  tecnico_perdedor pontos_total  pontos_diferenca  acima_media  \\\n",
       "0   Bill Belichick           74                 8            0   \n",
       "1   Bill Belichick           74                 8            0   \n",
       "2        Dan Quinn           62                 6            0   \n",
       "3       Ron Rivera           34                14            0   \n",
       "4       Ron Rivera           34                14            0   \n",
       "\n",
       "                                  musico numero_musicas  \n",
       "0                      Justin Timberlake           11.0  \n",
       "1  University of Minnesota Marching Band            1.0  \n",
       "2                              Lady Gaga            7.0  \n",
       "3                               Coldplay            6.0  \n",
       "4                                Beyoncé            3.0  \n",
       "\n",
       "[5 rows x 21 columns]"
      ]
     },
     "execution_count": 43,
     "metadata": {},
     "output_type": "execute_result"
    }
   ],
   "source": [
    "# Juntando as informações dos jogos e shows\n",
    "\n",
    "df_bowls_show = df_super_bowls.merge(df_show , how='left', on='edicao_super_bowl')\n",
    "df_bowls_show.head()"
   ]
  },
  {
   "cell_type": "code",
   "execution_count": 44,
   "id": "b5bffc37",
   "metadata": {},
   "outputs": [
    {
     "data": {
      "text/html": [
       "<div>\n",
       "<style scoped>\n",
       "    .dataframe tbody tr th:only-of-type {\n",
       "        vertical-align: middle;\n",
       "    }\n",
       "\n",
       "    .dataframe tbody tr th {\n",
       "        vertical-align: top;\n",
       "    }\n",
       "\n",
       "    .dataframe thead th {\n",
       "        text-align: right;\n",
       "    }\n",
       "</style>\n",
       "<table border=\"1\" class=\"dataframe\">\n",
       "  <thead>\n",
       "    <tr style=\"text-align: right;\">\n",
       "      <th></th>\n",
       "      <th>time</th>\n",
       "      <th>vitorias</th>\n",
       "    </tr>\n",
       "  </thead>\n",
       "  <tbody>\n",
       "    <tr>\n",
       "      <th>0</th>\n",
       "      <td>Baltimore Colts</td>\n",
       "      <td>1</td>\n",
       "    </tr>\n",
       "    <tr>\n",
       "      <th>1</th>\n",
       "      <td>Baltimore Ravens</td>\n",
       "      <td>9</td>\n",
       "    </tr>\n",
       "    <tr>\n",
       "      <th>2</th>\n",
       "      <td>Chicago Bears</td>\n",
       "      <td>1</td>\n",
       "    </tr>\n",
       "    <tr>\n",
       "      <th>3</th>\n",
       "      <td>Dallas Cowboys</td>\n",
       "      <td>14</td>\n",
       "    </tr>\n",
       "    <tr>\n",
       "      <th>4</th>\n",
       "      <td>Denver Broncos</td>\n",
       "      <td>16</td>\n",
       "    </tr>\n",
       "  </tbody>\n",
       "</table>\n",
       "</div>"
      ],
      "text/plain": [
       "               time  vitorias\n",
       "0   Baltimore Colts         1\n",
       "1  Baltimore Ravens         9\n",
       "2     Chicago Bears         1\n",
       "3    Dallas Cowboys        14\n",
       "4    Denver Broncos        16"
      ]
     },
     "execution_count": 44,
     "metadata": {},
     "output_type": "execute_result"
    }
   ],
   "source": [
    "# Calculando a quantidade de vitórias para cada time \n",
    "\n",
    "df_count_vencedor = df_bowls_show.groupby(['time_vencedor']).agg({'time_vencedor': 'count'}).rename(\n",
    "    columns={'time_vencedor': 'vitorias'}).reset_index()\n",
    "df_count_vencedor.columns = ['time', 'vitorias']\n",
    "df_count_vencedor.head()"
   ]
  },
  {
   "cell_type": "code",
   "execution_count": 45,
   "id": "d4da30a4",
   "metadata": {},
   "outputs": [
    {
     "data": {
      "text/html": [
       "<div>\n",
       "<style scoped>\n",
       "    .dataframe tbody tr th:only-of-type {\n",
       "        vertical-align: middle;\n",
       "    }\n",
       "\n",
       "    .dataframe tbody tr th {\n",
       "        vertical-align: top;\n",
       "    }\n",
       "\n",
       "    .dataframe thead th {\n",
       "        text-align: right;\n",
       "    }\n",
       "</style>\n",
       "<table border=\"1\" class=\"dataframe\">\n",
       "  <thead>\n",
       "    <tr style=\"text-align: right;\">\n",
       "      <th></th>\n",
       "      <th>time</th>\n",
       "      <th>derrotas</th>\n",
       "    </tr>\n",
       "  </thead>\n",
       "  <tbody>\n",
       "    <tr>\n",
       "      <th>0</th>\n",
       "      <td>Arizona Cardinals</td>\n",
       "      <td>1</td>\n",
       "    </tr>\n",
       "    <tr>\n",
       "      <th>1</th>\n",
       "      <td>Atlanta Falcons</td>\n",
       "      <td>4</td>\n",
       "    </tr>\n",
       "    <tr>\n",
       "      <th>2</th>\n",
       "      <td>Baltimore Colts</td>\n",
       "      <td>1</td>\n",
       "    </tr>\n",
       "    <tr>\n",
       "      <th>3</th>\n",
       "      <td>Buffalo Bills</td>\n",
       "      <td>9</td>\n",
       "    </tr>\n",
       "    <tr>\n",
       "      <th>4</th>\n",
       "      <td>Carolina Panthers</td>\n",
       "      <td>15</td>\n",
       "    </tr>\n",
       "  </tbody>\n",
       "</table>\n",
       "</div>"
      ],
      "text/plain": [
       "                time  derrotas\n",
       "0  Arizona Cardinals         1\n",
       "1    Atlanta Falcons         4\n",
       "2    Baltimore Colts         1\n",
       "3      Buffalo Bills         9\n",
       "4  Carolina Panthers        15"
      ]
     },
     "execution_count": 45,
     "metadata": {},
     "output_type": "execute_result"
    }
   ],
   "source": [
    "# Calculando a quantidade de derrotas para cada time \n",
    "\n",
    "df_count_perdedor = df_bowls_show.groupby(['time_perdedor']).agg({'time_perdedor': 'count'}).rename(\n",
    "    columns={'time_perdedor': 'derrotas'}).reset_index()\n",
    "df_count_perdedor.columns = ['time', 'derrotas']\n",
    "df_count_perdedor.head()"
   ]
  },
  {
   "cell_type": "code",
   "execution_count": 46,
   "id": "b23e44c0",
   "metadata": {},
   "outputs": [
    {
     "data": {
      "text/html": [
       "<div>\n",
       "<style scoped>\n",
       "    .dataframe tbody tr th:only-of-type {\n",
       "        vertical-align: middle;\n",
       "    }\n",
       "\n",
       "    .dataframe tbody tr th {\n",
       "        vertical-align: top;\n",
       "    }\n",
       "\n",
       "    .dataframe thead th {\n",
       "        text-align: right;\n",
       "    }\n",
       "</style>\n",
       "<table border=\"1\" class=\"dataframe\">\n",
       "  <thead>\n",
       "    <tr style=\"text-align: right;\">\n",
       "      <th></th>\n",
       "      <th>time</th>\n",
       "      <th>vitorias</th>\n",
       "      <th>derrotas</th>\n",
       "      <th>percentage_vitoria</th>\n",
       "    </tr>\n",
       "  </thead>\n",
       "  <tbody>\n",
       "    <tr>\n",
       "      <th>0</th>\n",
       "      <td>Baltimore Colts</td>\n",
       "      <td>1.0</td>\n",
       "      <td>1.0</td>\n",
       "      <td>0.500000</td>\n",
       "    </tr>\n",
       "    <tr>\n",
       "      <th>1</th>\n",
       "      <td>Baltimore Ravens</td>\n",
       "      <td>9.0</td>\n",
       "      <td>0.0</td>\n",
       "      <td>1.000000</td>\n",
       "    </tr>\n",
       "    <tr>\n",
       "      <th>2</th>\n",
       "      <td>Chicago Bears</td>\n",
       "      <td>1.0</td>\n",
       "      <td>2.0</td>\n",
       "      <td>0.333333</td>\n",
       "    </tr>\n",
       "    <tr>\n",
       "      <th>3</th>\n",
       "      <td>Dallas Cowboys</td>\n",
       "      <td>14.0</td>\n",
       "      <td>4.0</td>\n",
       "      <td>0.777778</td>\n",
       "    </tr>\n",
       "    <tr>\n",
       "      <th>4</th>\n",
       "      <td>Denver Broncos</td>\n",
       "      <td>16.0</td>\n",
       "      <td>16.0</td>\n",
       "      <td>0.500000</td>\n",
       "    </tr>\n",
       "  </tbody>\n",
       "</table>\n",
       "</div>"
      ],
      "text/plain": [
       "               time  vitorias  derrotas  percentage_vitoria\n",
       "0   Baltimore Colts       1.0       1.0            0.500000\n",
       "1  Baltimore Ravens       9.0       0.0            1.000000\n",
       "2     Chicago Bears       1.0       2.0            0.333333\n",
       "3    Dallas Cowboys      14.0       4.0            0.777778\n",
       "4    Denver Broncos      16.0      16.0            0.500000"
      ]
     },
     "execution_count": 46,
     "metadata": {},
     "output_type": "execute_result"
    }
   ],
   "source": [
    "# Juntando as duas informações de quantidades de vitórias e derrotas \n",
    "\n",
    "df_count_vencedor_perdedor = df_count_vencedor.merge(df_count_perdedor,\n",
    "                                                     how='outer', on='time',\n",
    "                                                     )\n",
    "\n",
    "# Calcula o percentual de vitórias com relação ao total de jogos\n",
    "\n",
    "df_count_vencedor_perdedor.columns = ['time', 'vitorias','derrotas']\n",
    "df_count_vencedor_perdedor= df_count_vencedor_perdedor.fillna(0)\n",
    "df_count_vencedor_perdedor['percentage_vitoria'] = df_count_vencedor_perdedor['vitorias'] \\\n",
    "/ (df_count_vencedor_perdedor['vitorias']+df_count_vencedor_perdedor['derrotas'])\n",
    "\n",
    "df_count_vencedor_perdedor.head()"
   ]
  },
  {
   "cell_type": "markdown",
   "id": "0e99498e",
   "metadata": {},
   "source": [
    "#### Quais músicos mais tocaram em jogos onde os times tiveram boa performance (percentual de vitória >50%)?"
   ]
  },
  {
   "cell_type": "code",
   "execution_count": 47,
   "id": "02ba0e98",
   "metadata": {},
   "outputs": [
    {
     "data": {
      "image/png": "[encoded data removed]",
      "text/plain": [
       "<Figure size 1080x216 with 1 Axes>"
      ]
     },
     "metadata": {
      "needs_background": "light"
     },
     "output_type": "display_data"
    }
   ],
   "source": [
    "lista_time_vitoriosos = df_count_vencedor_perdedor[df_count_vencedor_perdedor['percentage_vitoria']>0.50]['time'].tolist()\n",
    "\n",
    "df_bowls_show[df_bowls_show['time_vencedor'].isin(lista_time_vitoriosos)]['musico'].value_counts(\n",
    "    normalize=False)[0:10].plot(kind='bar', rot=80, figsize=(15,3))\n",
    "plt.show()"
   ]
  },
  {
   "cell_type": "markdown",
   "id": "de319cd6",
   "metadata": {},
   "source": [
    "#### Quais músicos mais tocaram em jogos onde os times tiveram má performance (percentual de vitória <50%)?"
   ]
  },
  {
   "cell_type": "code",
   "execution_count": 48,
   "id": "a35d597b",
   "metadata": {},
   "outputs": [
    {
     "data": {
      "image/png": "[encoded data removed]",
      "text/plain": [
       "<Figure size 1080x216 with 1 Axes>"
      ]
     },
     "metadata": {
      "needs_background": "light"
     },
     "output_type": "display_data"
    }
   ],
   "source": [
    "lista_time_derrotados = df_count_vencedor_perdedor[df_count_vencedor_perdedor['percentage_vitoria']<0.50]['time'].tolist()\n",
    "\n",
    "df_bowls_show[df_bowls_show['time_perdedor'].isin(lista_time_vitoriosos)]['musico'].value_counts(\n",
    "    normalize=False)[0:10].plot(kind='bar', rot=80, figsize=(15,3))\n",
    "plt.show()"
   ]
  },
  {
   "cell_type": "code",
   "execution_count": 49,
   "id": "32644c06",
   "metadata": {},
   "outputs": [
    {
     "data": {
      "text/plain": [
       "Grambling State University Tiger Marching Band    5\n",
       "Al Hirt                                           4\n",
       "Up with People                                    3\n",
       "Pete Fountain                                     2\n",
       "Nelly                                             2\n",
       "Spirit of Troy                                    2\n",
       "Florida A&M University Marching 100 Band          2\n",
       "The Human Jukebox                                 2\n",
       "Arturo Sandoval                                   1\n",
       "Doug Kershaw                                      1\n",
       "Name: musico, dtype: int64"
      ]
     },
     "execution_count": 49,
     "metadata": {},
     "output_type": "execute_result"
    }
   ],
   "source": [
    "df_bowls_show[df_bowls_show['time_vencedor'].isin(lista_time_vitoriosos)]['musico'].value_counts(\n",
    "    normalize=False)[0:10]"
   ]
  },
  {
   "cell_type": "markdown",
   "id": "de9b9ccf",
   "metadata": {},
   "source": [
    "Nota:\n",
    "  * Notamos que os músicos Up with People e Grambling State University Tiger Marching Band aparecem com frequencia tanto em shows de times que tiveram boa e má perfomances. \n",
    "  * Vale notar que o músico Al Hirt aparece com clareza no shows de times que tiveram boas performances "
   ]
  },
  {
   "cell_type": "markdown",
   "id": "bc8feb90",
   "metadata": {},
   "source": [
    "## Pergunta 7:\n",
    "\n",
    "### Existe alguma relação entre a nota dos telespectadores e os shows dos intervalos?\n"
   ]
  },
  {
   "cell_type": "code",
   "execution_count": 50,
   "id": "d18a2453",
   "metadata": {},
   "outputs": [
    {
     "data": {
      "text/html": [
       "<div>\n",
       "<style scoped>\n",
       "    .dataframe tbody tr th:only-of-type {\n",
       "        vertical-align: middle;\n",
       "    }\n",
       "\n",
       "    .dataframe tbody tr th {\n",
       "        vertical-align: top;\n",
       "    }\n",
       "\n",
       "    .dataframe thead th {\n",
       "        text-align: right;\n",
       "    }\n",
       "</style>\n",
       "<table border=\"1\" class=\"dataframe\">\n",
       "  <thead>\n",
       "    <tr style=\"text-align: right;\">\n",
       "      <th></th>\n",
       "      <th>edicao_super_bowl</th>\n",
       "      <th>canal</th>\n",
       "      <th>media_us_telespectadores</th>\n",
       "      <th>total_us_telespectadores</th>\n",
       "      <th>nota_telespectadores</th>\n",
       "      <th>custos_anuncio</th>\n",
       "      <th>musico</th>\n",
       "      <th>numero_musicas</th>\n",
       "    </tr>\n",
       "  </thead>\n",
       "  <tbody>\n",
       "    <tr>\n",
       "      <th>0</th>\n",
       "      <td>52</td>\n",
       "      <td>NBC</td>\n",
       "      <td>103,390,000.00</td>\n",
       "      <td>NaN</td>\n",
       "      <td>43.1</td>\n",
       "      <td>5,000,000.00</td>\n",
       "      <td>Justin Timberlake</td>\n",
       "      <td>11.0</td>\n",
       "    </tr>\n",
       "    <tr>\n",
       "      <th>1</th>\n",
       "      <td>52</td>\n",
       "      <td>NBC</td>\n",
       "      <td>103,390,000.00</td>\n",
       "      <td>NaN</td>\n",
       "      <td>43.1</td>\n",
       "      <td>5,000,000.00</td>\n",
       "      <td>University of Minnesota Marching Band</td>\n",
       "      <td>1.0</td>\n",
       "    </tr>\n",
       "    <tr>\n",
       "      <th>2</th>\n",
       "      <td>51</td>\n",
       "      <td>Fox</td>\n",
       "      <td>111,319,000.00</td>\n",
       "      <td>172,000,000.00</td>\n",
       "      <td>45.3</td>\n",
       "      <td>5,000,000.00</td>\n",
       "      <td>Lady Gaga</td>\n",
       "      <td>7.0</td>\n",
       "    </tr>\n",
       "    <tr>\n",
       "      <th>3</th>\n",
       "      <td>50</td>\n",
       "      <td>CBS</td>\n",
       "      <td>111,864,000.00</td>\n",
       "      <td>167,000,000.00</td>\n",
       "      <td>46.6</td>\n",
       "      <td>5,000,000.00</td>\n",
       "      <td>Coldplay</td>\n",
       "      <td>6.0</td>\n",
       "    </tr>\n",
       "    <tr>\n",
       "      <th>4</th>\n",
       "      <td>50</td>\n",
       "      <td>CBS</td>\n",
       "      <td>111,864,000.00</td>\n",
       "      <td>167,000,000.00</td>\n",
       "      <td>46.6</td>\n",
       "      <td>5,000,000.00</td>\n",
       "      <td>Beyoncé</td>\n",
       "      <td>3.0</td>\n",
       "    </tr>\n",
       "  </tbody>\n",
       "</table>\n",
       "</div>"
      ],
      "text/plain": [
       "   edicao_super_bowl canal media_us_telespectadores total_us_telespectadores  \\\n",
       "0                 52   NBC           103,390,000.00                      NaN   \n",
       "1                 52   NBC           103,390,000.00                      NaN   \n",
       "2                 51   Fox           111,319,000.00           172,000,000.00   \n",
       "3                 50   CBS           111,864,000.00           167,000,000.00   \n",
       "4                 50   CBS           111,864,000.00           167,000,000.00   \n",
       "\n",
       "   nota_telespectadores custos_anuncio                                 musico  \\\n",
       "0                  43.1   5,000,000.00                      Justin Timberlake   \n",
       "1                  43.1   5,000,000.00  University of Minnesota Marching Band   \n",
       "2                  45.3   5,000,000.00                              Lady Gaga   \n",
       "3                  46.6   5,000,000.00                               Coldplay   \n",
       "4                  46.6   5,000,000.00                                Beyoncé   \n",
       "\n",
       "   numero_musicas  \n",
       "0            11.0  \n",
       "1             1.0  \n",
       "2             7.0  \n",
       "3             6.0  \n",
       "4             3.0  "
      ]
     },
     "execution_count": 50,
     "metadata": {},
     "output_type": "execute_result"
    }
   ],
   "source": [
    "# Juntando as informações das transmissoes e shows\n",
    "\n",
    "df_tv_show = df_tv.merge(df_show , how='left', on='edicao_super_bowl')\n",
    "df_tv_show.head()"
   ]
  },
  {
   "cell_type": "code",
   "execution_count": 51,
   "id": "d67bee61",
   "metadata": {},
   "outputs": [
    {
     "data": {
      "text/plain": [
       "edicao_super_bowl            0\n",
       "canal                        0\n",
       "media_us_telespectadores     0\n",
       "total_us_telespectadores    89\n",
       "nota_telespectadores         0\n",
       "custos_anuncio               0\n",
       "musico                       0\n",
       "numero_musicas              49\n",
       "dtype: int64"
      ]
     },
     "execution_count": 51,
     "metadata": {},
     "output_type": "execute_result"
    }
   ],
   "source": [
    "df_tv_show.isnull().sum()"
   ]
  },
  {
   "cell_type": "code",
   "execution_count": 52,
   "id": "dcdf88a2",
   "metadata": {},
   "outputs": [
    {
     "data": {
      "text/plain": [
       "array([41.3, 43.3, 46.3])"
      ]
     },
     "execution_count": 52,
     "metadata": {},
     "output_type": "execute_result"
    }
   ],
   "source": [
    "# Vamos primeiro encontrar os intervalos interquatils para considerar notas maiores e menores.\n",
    "\n",
    "quartiles = df_tv_show['nota_telespectadores'].quantile([.25, .5, .75]).values\n",
    "quartiles"
   ]
  },
  {
   "cell_type": "code",
   "execution_count": 53,
   "id": "63a9e93d",
   "metadata": {},
   "outputs": [
    {
     "data": {
      "image/png": "[encoded data removed]",
      "text/plain": [
       "<Figure size 1080x216 with 1 Axes>"
      ]
     },
     "metadata": {
      "needs_background": "light"
     },
     "output_type": "display_data"
    }
   ],
   "source": [
    "# Quais músicos se apresentaram nos jogos q receberam as maiores notas?\n",
    "\n",
    "df_tv_show[df_tv_show['nota_telespectadores'] >= quartiles[2]]['musico'].value_counts()[0:10].plot(kind='bar', rot=80, figsize=(15,3))\n",
    "plt.show()"
   ]
  },
  {
   "cell_type": "code",
   "execution_count": 54,
   "id": "c47fd41d",
   "metadata": {},
   "outputs": [
    {
     "data": {
      "image/png": "[encoded data removed]",
      "text/plain": [
       "<Figure size 1080x216 with 1 Axes>"
      ]
     },
     "metadata": {
      "needs_background": "light"
     },
     "output_type": "display_data"
    }
   ],
   "source": [
    "# Quais músicos se apresentaram nos jogos q receberam as menores notas?\n",
    "\n",
    "df_tv_show[df_tv_show['nota_telespectadores'] <= quartiles[0]]['musico'].value_counts()[0:10].plot(kind='bar', rot=80, figsize=(15,3))\n",
    "plt.show()"
   ]
  },
  {
   "cell_type": "markdown",
   "id": "3bf0cb87",
   "metadata": {},
   "source": [
    "Nota:\n",
    "  * Notamos que jogos onde tinham apresentações de músicos mais famosos, como Up with People, Bruno Mars, Beyoncé, Coldplay e outros, receberam notas maiores. Enquanto que, jogos com apresentações de bandas e pessoas menos famosas receberam notas menores."
   ]
  },
  {
   "cell_type": "markdown",
   "id": "554dc92c",
   "metadata": {},
   "source": [
    "## Pergunta 8:\n",
    "\n",
    "### Em quantas edições o quarterback do time vencedor tem o segundo nome começando com a letra “b”?"
   ]
  },
  {
   "cell_type": "code",
   "execution_count": 55,
   "id": "132761bd",
   "metadata": {},
   "outputs": [
    {
     "data": {
      "text/html": [
       "<div>\n",
       "<style scoped>\n",
       "    .dataframe tbody tr th:only-of-type {\n",
       "        vertical-align: middle;\n",
       "    }\n",
       "\n",
       "    .dataframe tbody tr th {\n",
       "        vertical-align: top;\n",
       "    }\n",
       "\n",
       "    .dataframe thead th {\n",
       "        text-align: right;\n",
       "    }\n",
       "</style>\n",
       "<table border=\"1\" class=\"dataframe\">\n",
       "  <thead>\n",
       "    <tr style=\"text-align: right;\">\n",
       "      <th></th>\n",
       "      <th>data</th>\n",
       "      <th>edicao_super_bowl</th>\n",
       "      <th>estadio</th>\n",
       "      <th>cidade</th>\n",
       "      <th>estado</th>\n",
       "      <th>numero_torcedores</th>\n",
       "      <th>time_vencedor</th>\n",
       "      <th>pontos_vencedor</th>\n",
       "      <th>quarterback_vencedor_1</th>\n",
       "      <th>quarterback_vencedor_2</th>\n",
       "      <th>tecnico_vencedor</th>\n",
       "      <th>time_perdedor</th>\n",
       "      <th>pontos_perdedor</th>\n",
       "      <th>quarterback_perdedor_1</th>\n",
       "      <th>quarterback_perdedor_2</th>\n",
       "      <th>tecnico_perdedor</th>\n",
       "      <th>pontos_total</th>\n",
       "      <th>pontos_diferenca</th>\n",
       "      <th>acima_media</th>\n",
       "    </tr>\n",
       "  </thead>\n",
       "  <tbody>\n",
       "    <tr>\n",
       "      <th>0</th>\n",
       "      <td>2018-04-02</td>\n",
       "      <td>52</td>\n",
       "      <td>U.S. Bank Stadium</td>\n",
       "      <td>Minneapolis</td>\n",
       "      <td>Minnesota</td>\n",
       "      <td>67612</td>\n",
       "      <td>Philadelphia Eagles</td>\n",
       "      <td>41</td>\n",
       "      <td>Nick Foles</td>\n",
       "      <td>NaN</td>\n",
       "      <td>Doug Pederson</td>\n",
       "      <td>New England Patriots</td>\n",
       "      <td>33</td>\n",
       "      <td>Tom Brady</td>\n",
       "      <td>NaN</td>\n",
       "      <td>Bill Belichick</td>\n",
       "      <td>74</td>\n",
       "      <td>8</td>\n",
       "      <td>0</td>\n",
       "    </tr>\n",
       "    <tr>\n",
       "      <th>1</th>\n",
       "      <td>2017-05-02</td>\n",
       "      <td>51</td>\n",
       "      <td>NRG Stadium</td>\n",
       "      <td>Houston</td>\n",
       "      <td>Texas</td>\n",
       "      <td>70807</td>\n",
       "      <td>New England Patriots</td>\n",
       "      <td>34</td>\n",
       "      <td>Tom Brady</td>\n",
       "      <td>NaN</td>\n",
       "      <td>Bill Belichick</td>\n",
       "      <td>Atlanta Falcons</td>\n",
       "      <td>28</td>\n",
       "      <td>Matt Ryan</td>\n",
       "      <td>NaN</td>\n",
       "      <td>Dan Quinn</td>\n",
       "      <td>62</td>\n",
       "      <td>6</td>\n",
       "      <td>0</td>\n",
       "    </tr>\n",
       "    <tr>\n",
       "      <th>2</th>\n",
       "      <td>2016-07-02</td>\n",
       "      <td>50</td>\n",
       "      <td>Levi's Stadium</td>\n",
       "      <td>Santa Clara</td>\n",
       "      <td>California</td>\n",
       "      <td>71088</td>\n",
       "      <td>Denver Broncos</td>\n",
       "      <td>24</td>\n",
       "      <td>Peyton Manning</td>\n",
       "      <td>NaN</td>\n",
       "      <td>Gary Kubiak</td>\n",
       "      <td>Carolina Panthers</td>\n",
       "      <td>10</td>\n",
       "      <td>Cam Newton</td>\n",
       "      <td>NaN</td>\n",
       "      <td>Ron Rivera</td>\n",
       "      <td>34</td>\n",
       "      <td>14</td>\n",
       "      <td>0</td>\n",
       "    </tr>\n",
       "    <tr>\n",
       "      <th>3</th>\n",
       "      <td>2015-01-02</td>\n",
       "      <td>49</td>\n",
       "      <td>University of Phoenix Stadium</td>\n",
       "      <td>Glendale</td>\n",
       "      <td>Arizona</td>\n",
       "      <td>70288</td>\n",
       "      <td>New England Patriots</td>\n",
       "      <td>28</td>\n",
       "      <td>Tom Brady</td>\n",
       "      <td>NaN</td>\n",
       "      <td>Bill Belichick</td>\n",
       "      <td>Seattle Seahawks</td>\n",
       "      <td>24</td>\n",
       "      <td>Russell Wilson</td>\n",
       "      <td>NaN</td>\n",
       "      <td>Pete Carroll</td>\n",
       "      <td>52</td>\n",
       "      <td>4</td>\n",
       "      <td>0</td>\n",
       "    </tr>\n",
       "    <tr>\n",
       "      <th>4</th>\n",
       "      <td>2014-02-02</td>\n",
       "      <td>48</td>\n",
       "      <td>MetLife Stadium</td>\n",
       "      <td>East Rutherford</td>\n",
       "      <td>New Jersey</td>\n",
       "      <td>82529</td>\n",
       "      <td>Seattle Seahawks</td>\n",
       "      <td>43</td>\n",
       "      <td>Russell Wilson</td>\n",
       "      <td>NaN</td>\n",
       "      <td>Pete Carroll</td>\n",
       "      <td>Denver Broncos</td>\n",
       "      <td>8</td>\n",
       "      <td>Peyton Manning</td>\n",
       "      <td>NaN</td>\n",
       "      <td>John Fox</td>\n",
       "      <td>51</td>\n",
       "      <td>35</td>\n",
       "      <td>1</td>\n",
       "    </tr>\n",
       "  </tbody>\n",
       "</table>\n",
       "</div>"
      ],
      "text/plain": [
       "        data  edicao_super_bowl                        estadio  \\\n",
       "0 2018-04-02                 52              U.S. Bank Stadium   \n",
       "1 2017-05-02                 51                    NRG Stadium   \n",
       "2 2016-07-02                 50                 Levi's Stadium   \n",
       "3 2015-01-02                 49  University of Phoenix Stadium   \n",
       "4 2014-02-02                 48                MetLife Stadium   \n",
       "\n",
       "            cidade      estado  numero_torcedores         time_vencedor  \\\n",
       "0      Minneapolis   Minnesota              67612   Philadelphia Eagles   \n",
       "1          Houston       Texas              70807  New England Patriots   \n",
       "2      Santa Clara  California              71088        Denver Broncos   \n",
       "3         Glendale     Arizona              70288  New England Patriots   \n",
       "4  East Rutherford  New Jersey              82529      Seattle Seahawks   \n",
       "\n",
       "   pontos_vencedor quarterback_vencedor_1 quarterback_vencedor_2  \\\n",
       "0               41             Nick Foles                    NaN   \n",
       "1               34              Tom Brady                    NaN   \n",
       "2               24         Peyton Manning                    NaN   \n",
       "3               28              Tom Brady                    NaN   \n",
       "4               43         Russell Wilson                    NaN   \n",
       "\n",
       "  tecnico_vencedor         time_perdedor  pontos_perdedor  \\\n",
       "0    Doug Pederson  New England Patriots               33   \n",
       "1   Bill Belichick       Atlanta Falcons               28   \n",
       "2      Gary Kubiak     Carolina Panthers               10   \n",
       "3   Bill Belichick      Seattle Seahawks               24   \n",
       "4     Pete Carroll        Denver Broncos                8   \n",
       "\n",
       "  quarterback_perdedor_1 quarterback_perdedor_2 tecnico_perdedor  \\\n",
       "0              Tom Brady                    NaN   Bill Belichick   \n",
       "1              Matt Ryan                    NaN        Dan Quinn   \n",
       "2             Cam Newton                    NaN       Ron Rivera   \n",
       "3         Russell Wilson                    NaN     Pete Carroll   \n",
       "4         Peyton Manning                    NaN         John Fox   \n",
       "\n",
       "   pontos_total  pontos_diferenca  acima_media  \n",
       "0            74                 8            0  \n",
       "1            62                 6            0  \n",
       "2            34                14            0  \n",
       "3            52                 4            0  \n",
       "4            51                35            1  "
      ]
     },
     "execution_count": 55,
     "metadata": {},
     "output_type": "execute_result"
    }
   ],
   "source": [
    "df_super_bowls.head()"
   ]
  },
  {
   "cell_type": "code",
   "execution_count": 56,
   "id": "14d621af",
   "metadata": {
    "scrolled": true
   },
   "outputs": [
    {
     "name": "stdout",
     "output_type": "stream",
     "text": [
      "Existem 10 edições onde o quarterback do vencedor tem um segundo nome que começa com a letra 'B' \n"
     ]
    }
   ],
   "source": [
    "COUNT1 = 0\n",
    "for quarterback in df_super_bowls['quarterback_vencedor_1']:\n",
    "    split_string = quarterback.split(\" \", 10)\n",
    "    if 'B' in split_string[1][0]:\n",
    "        COUNT1 = COUNT1 + 1\n",
    "\n",
    "print(f\"Existem {COUNT1} edições onde o quarterback do vencedor tem um segundo nome que começa com a letra 'B' \")"
   ]
  }
 ],
 "metadata": {
  "kernelspec": {
   "display_name": "Python 3 (ipykernel)",
   "language": "python",
   "name": "python3"
  },
  "language_info": {
   "codemirror_mode": {
    "name": "ipython",
    "version": 3
   },
   "file_extension": ".py",
   "mimetype": "text/x-python",
   "name": "python",
   "nbconvert_exporter": "python",
   "pygments_lexer": "ipython3",
   "version": "3.9.12"
  }
 },
 "nbformat": 4,
 "nbformat_minor": 5
}
